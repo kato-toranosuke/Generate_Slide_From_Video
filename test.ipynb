{
 "cells": [
  {
   "cell_type": "code",
   "execution_count": 62,
   "metadata": {},
   "outputs": [],
   "source": [
    "from PIL import Image\n",
    "import imagehash\n",
    "import itertools"
   ]
  },
  {
   "cell_type": "code",
   "execution_count": 63,
   "metadata": {},
   "outputs": [],
   "source": [
    "# Constants\n",
    "IMG_PATH = '/Users/toranosuke/Desktop'"
   ]
  },
  {
   "cell_type": "code",
   "execution_count": 70,
   "metadata": {},
   "outputs": [],
   "source": [
    "hash_vals = []\n",
    "for i in range(5):\n",
    "    pic = Image.open(f'{IMG_PATH}/modern_art_{i}.png')\n",
    "    hash_val = imagehash.dhash_vertical(pic)\n",
    "    hash_vals.append(hash_val)\n",
    "\n",
    "diff_hash_vals = []\n",
    "for c in itertools.combinations(hash_vals, 2):\n",
    "    diff_hash_vals.append(abs(c[0]-c[1]))"
   ]
  },
  {
   "cell_type": "code",
   "execution_count": 71,
   "metadata": {},
   "outputs": [
    {
     "name": "stdout",
     "output_type": "stream",
     "text": [
      "17\n",
      "7\n",
      "11.6\n"
     ]
    }
   ],
   "source": [
    "# avg hash\n",
    "print(max(diff_hash_vals))\n",
    "print(min(diff_hash_vals))\n",
    "print(sum(diff_hash_vals)/len(diff_hash_vals))"
   ]
  },
  {
   "cell_type": "code",
   "execution_count": null,
   "metadata": {},
   "outputs": [],
   "source": [
    "# p hash\n",
    "print(max(diff_hash_vals))\n",
    "print(min(diff_hash_vals))\n",
    "print(sum(diff_hash_vals)/len(diff_hash_vals))"
   ]
  },
  {
   "cell_type": "code",
   "execution_count": null,
   "metadata": {},
   "outputs": [],
   "source": [
    "# color hash\n",
    "print(max(diff_hash_vals))\n",
    "print(min(diff_hash_vals))\n",
    "print(sum(diff_hash_vals)/len(diff_hash_vals))"
   ]
  },
  {
   "cell_type": "code",
   "execution_count": null,
   "metadata": {},
   "outputs": [],
   "source": [
    "# crop_resistant_hash\n",
    "print(max(diff_hash_vals))\n",
    "print(min(diff_hash_vals))\n",
    "print(sum(diff_hash_vals)/len(diff_hash_vals))"
   ]
  },
  {
   "cell_type": "code",
   "execution_count": null,
   "metadata": {},
   "outputs": [],
   "source": [
    "# dhash\n",
    "print(max(diff_hash_vals))\n",
    "print(min(diff_hash_vals))\n",
    "print(sum(diff_hash_vals)/len(diff_hash_vals))"
   ]
  },
  {
   "cell_type": "code",
   "execution_count": null,
   "metadata": {},
   "outputs": [],
   "source": [
    "# dhash_vertical\n",
    "print(max(diff_hash_vals))\n",
    "print(min(diff_hash_vals))\n",
    "print(sum(diff_hash_vals)/len(diff_hash_vals))"
   ]
  },
  {
   "cell_type": "code",
   "execution_count": 72,
   "metadata": {},
   "outputs": [
    {
     "name": "stdout",
     "output_type": "stream",
     "text": [
      "17\n",
      "7\n",
      "11.6\n"
     ]
    }
   ],
   "source": [
    "# whash\n",
    "print(max(diff_hash_vals))\n",
    "print(min(diff_hash_vals))\n",
    "print(sum(diff_hash_vals)/len(diff_hash_vals))"
   ]
  }
 ],
 "metadata": {
  "interpreter": {
   "hash": "aee8b7b246df8f9039afb4144a1f6fd8d2ca17a180786b69acc140d282b71a49"
  },
  "kernelspec": {
   "display_name": "Python 3.9.8 64-bit",
   "language": "python",
   "name": "python3"
  },
  "language_info": {
   "codemirror_mode": {
    "name": "ipython",
    "version": 3
   },
   "file_extension": ".py",
   "mimetype": "text/x-python",
   "name": "python",
   "nbconvert_exporter": "python",
   "pygments_lexer": "ipython3",
   "version": "3.9.12"
  },
  "orig_nbformat": 4
 },
 "nbformat": 4,
 "nbformat_minor": 2
}
